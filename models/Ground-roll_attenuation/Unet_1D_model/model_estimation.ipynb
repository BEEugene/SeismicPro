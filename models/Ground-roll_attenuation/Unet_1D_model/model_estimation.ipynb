{
 "cells": [
  {
   "cell_type": "markdown",
   "metadata": {},
   "source": [
    "## Model Evaluation\n",
    "\n",
    "For model performance assessment we want to obtain the distribution of the model quality over 20 independent runs of the training procedure.\n",
    "\n",
    "* [The experiment details](#The-experiment-details)\n",
    "* [Results](#Results)\n",
    "\n",
    "### The experiment detalis\n",
    "Train and test dataset creation"
   ]
  },
  {
   "cell_type": "code",
   "execution_count": 1,
   "metadata": {},
   "outputs": [],
   "source": [
    "import os\n",
    "import sys\n",
    "import numpy as np\n",
    "import matplotlib.pyplot as plt\n",
    "import tensorflow as tf\n",
    "\n",
    "sys.path.append('../../..')\n",
    "\n",
    "from seismicpro.batchflow import Pipeline, B, V, F, C\n",
    "from seismicpro.batchflow.models.tf import UNet\n",
    "from seismicpro.batchflow.research import Research\n",
    "from seismicpro.src import (SeismicDataset, FieldIndex, TraceIndex,\n",
    "                            draw_histogram)\n",
    "\n",
    "plt.style.use('ggplot')"
   ]
  },
  {
   "cell_type": "code",
   "execution_count": 2,
   "metadata": {},
   "outputs": [],
   "source": [
    "path_raw = '/data/NA/noise_dataset_1/DN02A_LIFT_AMPSCAL.sgy'\n",
    "path_lift = '/data/NA/noise_dataset_1/DN02B_SHOTS_LIFT1.sgy'\n",
    "\n",
    "index = (FieldIndex(name='raw', extra_headers=['offset'], path=path_raw)\n",
    "         .merge(FieldIndex(name='lift', path=path_lift)))\n",
    "\n",
    "train_index = index.create_subset(index.indices[:5])\n",
    "train_set = SeismicDataset(TraceIndex(train_index))\n",
    "test_set = SeismicDataset(TraceIndex(index.create_subset(index.indices[20:21])))"
   ]
  },
  {
   "cell_type": "markdown",
   "metadata": {},
   "source": [
    "Define model config"
   ]
  },
  {
   "cell_type": "code",
   "execution_count": 2,
   "metadata": {},
   "outputs": [],
   "source": [
    "model_config = {\n",
    "    'initial_block/inputs': 'x',\n",
    "    'inputs': dict(x={'shape': (3000, 1)}, \n",
    "                   y={'name':'targets', 'shape': (3000, 1)}),\n",
    "    'body/filters': [16, 32, 64, 128, 256],\n",
    "    'body/encoder': dict(layout='caca', kernel_size=7, activation=tf.nn.elu),\n",
    "    'body/downsample': dict(layout='pd', pool_size=2, pool_strides=2, dropout_rate=0.05),\n",
    "    'body/decoder': dict(layout='caca', kernel_size=7, activation=tf.nn.elu),\n",
    "    'body/upsample': dict(layout='tad', kernel_size=7, strides=2,\n",
    "                          dropout_rate=0.05, activation=tf.nn.elu),\n",
    "    'loss': 'l1',\n",
    "    'optimizer': 'Adam'\n",
    "}"
   ]
  },
  {
   "cell_type": "markdown",
   "metadata": {},
   "source": [
    "Define train and test pipelines"
   ]
  },
  {
   "cell_type": "code",
   "execution_count": 3,
   "metadata": {},
   "outputs": [],
   "source": [
    "def make_data(batch, **kwagrs):\n",
    "    return {'x': np.expand_dims(np.vstack(batch.raw), -1),\n",
    "            'y': np.expand_dims(np.vstack(batch.lift), -1)}\n",
    "\n",
    "B_SIZE = 16\n",
    "train_pipeline = (Pipeline()\n",
    "                  .load(components=('raw', 'lift'), fmt='segy', tslice=np.arange(3000))\n",
    "                  .init_variable('loss', init_on_each_run=list)\n",
    "                  .init_model('dynamic', UNet, 'unet', model_config)\n",
    "                  .train_model('unet', make_data=make_data,\n",
    "                               fetches='loss', save_to=V('loss', mode='w'))\n",
    "                  .run_later(B_SIZE, n_epochs=None, drop_last=True, shuffle=True)\n",
    "                 ) << train_set\n",
    "\n",
    "test_pipeline = (Pipeline()\n",
    "                    .import_model('unet', C('import_from'))\n",
    "                    .init_variable('res', init_on_each_run=list())\n",
    "                    .init_variable('raw', init_on_each_run=list())\n",
    "                    .init_variable('lift', init_on_each_run=list())\n",
    "                    .load(components=('raw', 'lift'), tslice=np.arange(3000), fmt='segy')\n",
    "                    .update_variable('raw', B('raw'), mode='a')\n",
    "                    .update_variable('lift', B('lift'), mode='a')\n",
    "                    .predict_model('unet', fetches='predictions', make_data=make_data,\n",
    "                                   save_to=V('res', mode='a'))\n",
    "                    .run_later(B_SIZE, n_epochs=1, drop_last=True, shuffle=True)\n",
    "                   ) << test_set"
   ]
  },
  {
   "cell_type": "markdown",
   "metadata": {},
   "source": [
    "Let's define the functions for calculating the metrics"
   ]
  },
  {
   "cell_type": "code",
   "execution_count": 4,
   "metadata": {},
   "outputs": [],
   "source": [
    "def get_l1(iteration, experiment, pipeline):\n",
    "    \"\"\" Calculate l1 norm.\"\"\"\n",
    "    _ = iteration\n",
    "    pipeline = experiment[pipeline].pipeline\n",
    "    res = np.squeeze(np.vstack(pipeline.v(\"res\")), axis=-1)\n",
    "    lift = np.vstack(np.concatenate(pipeline.v(\"lift\")))\n",
    "    return np.mean(np.abs(res - lift))"
   ]
  },
  {
   "cell_type": "markdown",
   "metadata": {},
   "source": [
    "Create a research object"
   ]
  },
  {
   "cell_type": "code",
   "execution_count": 5,
   "metadata": {},
   "outputs": [],
   "source": [
    "research = (Research()\n",
    "            .add_pipeline(train_pipeline, variables='loss', name='train')\n",
    "            .add_pipeline(test_pipeline, name='test_ppl', execute=5,\n",
    "                         run=True, import_from='train')\n",
    "            .add_grid({})\n",
    "            .add_function(get_l1, returns='l1', name='test',\n",
    "                          execute=5, pipeline='test_ppl')\n",
    ")"
   ]
  },
  {
   "cell_type": "markdown",
   "metadata": {},
   "source": [
    "Run 20 independent training and test procedures"
   ]
  },
  {
   "cell_type": "code",
   "execution_count": 6,
   "metadata": {},
   "outputs": [
    {
     "name": "stdout",
     "output_type": "stream",
     "text": [
      "Research reserach_estimation is starting...\n"
     ]
    },
    {
     "name": "stderr",
     "output_type": "stream",
     "text": [
      " 61%|██████████| 10000/10000 [32:56<00:00,  5.06it/s]"
     ]
    }
   ],
   "source": [
    "research.run(n_reps=20, n_iters=500, name='reserach_estimation', workers=5,\n",
    "             gpu=[1, 2, 3, 6, 7], bar=True)"
   ]
  },
  {
   "cell_type": "markdown",
   "metadata": {},
   "source": [
    "### Results\n",
    "\n",
    "Histogram and a median value of the test metrics"
   ]
  },
  {
   "cell_type": "code",
   "execution_count": 7,
   "metadata": {},
   "outputs": [
    {
     "data": {
      "image/png": "[encoded data removed]",
      "text/plain": [
       "<Figure size 576x432 with 1 Axes>"
      ]
     },
     "metadata": {},
     "output_type": "display_data"
    },
    {
     "name": "stdout",
     "output_type": "stream",
     "text": [
      "Average value (Median) is 0.006435\n",
      "Std is 0.0004004\n"
     ]
    }
   ],
   "source": [
    "df = research.load_results(use_alias=True)\n",
    "draw_histogram(df, 'test/l1', 100)"
   ]
  }
 ],
 "metadata": {
  "kernelspec": {
   "display_name": "Python 3",
   "language": "python",
   "name": "python3"
  },
  "language_info": {
   "codemirror_mode": {
    "name": "ipython",
    "version": 3
   },
   "file_extension": ".py",
   "mimetype": "text/x-python",
   "name": "python",
   "nbconvert_exporter": "python",
   "pygments_lexer": "ipython3",
   "version": "3.5.2"
  }
 },
 "nbformat": 4,
 "nbformat_minor": 2
}
